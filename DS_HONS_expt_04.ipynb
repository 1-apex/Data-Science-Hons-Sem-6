{
 "cells": [
  {
   "cell_type": "code",
   "execution_count": 14,
   "id": "bc7f6fb2",
   "metadata": {},
   "outputs": [],
   "source": [
    "import pandas as pd\n",
    "from sklearn.feature_extraction.text import TfidfVectorizer\n",
    "from sklearn.svm import LinearSVC\n",
    "from sklearn.naive_bayes import MultinomialNB\n",
    "from sklearn.tree import DecisionTreeClassifier"
   ]
  },
  {
   "cell_type": "code",
   "execution_count": 5,
   "id": "2ef82f39",
   "metadata": {},
   "outputs": [],
   "source": [
    "df_train = pd.read_csv('exp_04_train_data.csv')"
   ]
  },
  {
   "cell_type": "code",
   "execution_count": 6,
   "id": "970ba809",
   "metadata": {},
   "outputs": [
    {
     "data": {
      "text/html": [
       "<div>\n",
       "<style scoped>\n",
       "    .dataframe tbody tr th:only-of-type {\n",
       "        vertical-align: middle;\n",
       "    }\n",
       "\n",
       "    .dataframe tbody tr th {\n",
       "        vertical-align: top;\n",
       "    }\n",
       "\n",
       "    .dataframe thead th {\n",
       "        text-align: right;\n",
       "    }\n",
       "</style>\n",
       "<table border=\"1\" class=\"dataframe\">\n",
       "  <thead>\n",
       "    <tr style=\"text-align: right;\">\n",
       "      <th></th>\n",
       "      <th>text</th>\n",
       "      <th>category</th>\n",
       "    </tr>\n",
       "  </thead>\n",
       "  <tbody>\n",
       "    <tr>\n",
       "      <th>0</th>\n",
       "      <td>I recently read a book about the history of An...</td>\n",
       "      <td>History</td>\n",
       "    </tr>\n",
       "    <tr>\n",
       "      <th>1</th>\n",
       "      <td>I just watched a new action movie that came ou...</td>\n",
       "      <td>Entertainment</td>\n",
       "    </tr>\n",
       "    <tr>\n",
       "      <th>2</th>\n",
       "      <td>I love trying out new recipes in the kitchen. ...</td>\n",
       "      <td>Food</td>\n",
       "    </tr>\n",
       "    <tr>\n",
       "      <th>3</th>\n",
       "      <td>I'm currently reading a new science fiction no...</td>\n",
       "      <td>Science Fiction</td>\n",
       "    </tr>\n",
       "  </tbody>\n",
       "</table>\n",
       "</div>"
      ],
      "text/plain": [
       "                                                text         category\n",
       "0  I recently read a book about the history of An...          History\n",
       "1  I just watched a new action movie that came ou...    Entertainment\n",
       "2  I love trying out new recipes in the kitchen. ...             Food\n",
       "3  I'm currently reading a new science fiction no...  Science Fiction"
      ]
     },
     "execution_count": 6,
     "metadata": {},
     "output_type": "execute_result"
    }
   ],
   "source": [
    "df_train.head()"
   ]
  },
  {
   "cell_type": "code",
   "execution_count": 7,
   "id": "4a8be22b",
   "metadata": {},
   "outputs": [],
   "source": [
    "# Create a TfidfVectorizer object to transform the text data into a numerical feature matrix\n",
    "vectorizer = TfidfVectorizer()"
   ]
  },
  {
   "cell_type": "code",
   "execution_count": 8,
   "id": "0cc863cc",
   "metadata": {},
   "outputs": [],
   "source": [
    "X_train = vectorizer.fit_transform(df_train['text'])"
   ]
  },
  {
   "cell_type": "code",
   "execution_count": 12,
   "id": "f5be8478",
   "metadata": {},
   "outputs": [
    {
     "data": {
      "text/plain": [
       "LinearSVC()"
      ]
     },
     "execution_count": 12,
     "metadata": {},
     "output_type": "execute_result"
    }
   ],
   "source": [
    "# Create a LinearSVC object to train a support vector machine classifier on the labeled training data\n",
    "clf = LinearSVC()\n",
    "clf.fit(X_train, df_train['category'])"
   ]
  },
  {
   "cell_type": "code",
   "execution_count": 15,
   "id": "63d75645",
   "metadata": {},
   "outputs": [
    {
     "data": {
      "text/plain": [
       "MultinomialNB()"
      ]
     },
     "execution_count": 15,
     "metadata": {},
     "output_type": "execute_result"
    }
   ],
   "source": [
    "# Create a MultinomialNB object to train a Naive Bayes classifier on the labeled training data\n",
    "clf_nb = MultinomialNB()\n",
    "clf_nb.fit(X_train, df_train['category'])"
   ]
  },
  {
   "cell_type": "code",
   "execution_count": 16,
   "id": "7d13395b",
   "metadata": {},
   "outputs": [
    {
     "data": {
      "text/plain": [
       "DecisionTreeClassifier()"
      ]
     },
     "execution_count": 16,
     "metadata": {},
     "output_type": "execute_result"
    }
   ],
   "source": [
    "# Create a DecisionTreeClassifier object to train a decision tree classifier on the labeled training data\n",
    "clf_dt = DecisionTreeClassifier()\n",
    "clf_dt.fit(X_train, df_train['category'])"
   ]
  },
  {
   "cell_type": "code",
   "execution_count": 18,
   "id": "501f265d",
   "metadata": {},
   "outputs": [],
   "source": [
    "# Load the new, unlabeled test data\n",
    "df_test = pd.read_csv('exp_04_test_data.csv')"
   ]
  },
  {
   "cell_type": "code",
   "execution_count": 19,
   "id": "68e4f086",
   "metadata": {},
   "outputs": [],
   "source": [
    "# Transform the test data into a numerical feature matrix using the same vectorizer used on the training data\n",
    "X_test = vectorizer.transform(df_test['text'])"
   ]
  },
  {
   "cell_type": "code",
   "execution_count": 20,
   "id": "f59edd1a",
   "metadata": {},
   "outputs": [],
   "source": [
    "# Use the trained classifiers to predict the category of the test data\n",
    "y_pred = clf.predict(X_test)\n",
    "y_pred_nb = clf_nb.predict(X_test)\n",
    "y_pred_dt = clf_dt.predict(X_test)"
   ]
  },
  {
   "cell_type": "code",
   "execution_count": 21,
   "id": "de452268",
   "metadata": {},
   "outputs": [
    {
     "name": "stdout",
     "output_type": "stream",
     "text": [
      "SVM predictions: ['History' 'Food' 'Science Fiction' 'Entertainment']\n",
      "Naive Bayes predictions: ['Entertainment' 'Entertainment' 'Science Fiction' 'Entertainment']\n",
      "Decision Tree predictions: ['Science Fiction' 'Science Fiction' 'Science Fiction' 'Science Fiction']\n"
     ]
    }
   ],
   "source": [
    "print('SVM predictions:', y_pred)\n",
    "print('Naive Bayes predictions:', y_pred_nb)\n",
    "print('Decision Tree predictions:', y_pred_dt)"
   ]
  },
  {
   "cell_type": "code",
   "execution_count": null,
   "id": "54d18635",
   "metadata": {},
   "outputs": [],
   "source": []
  }
 ],
 "metadata": {
  "kernelspec": {
   "display_name": "Python 3 (ipykernel)",
   "language": "python",
   "name": "python3"
  },
  "language_info": {
   "codemirror_mode": {
    "name": "ipython",
    "version": 3
   },
   "file_extension": ".py",
   "mimetype": "text/x-python",
   "name": "python",
   "nbconvert_exporter": "python",
   "pygments_lexer": "ipython3",
   "version": "3.9.12"
  }
 },
 "nbformat": 4,
 "nbformat_minor": 5
}
