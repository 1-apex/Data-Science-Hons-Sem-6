{
 "cells": [
  {
   "cell_type": "code",
   "execution_count": 1,
   "id": "1f1ab797",
   "metadata": {},
   "outputs": [],
   "source": [
    "import math\n",
    "import string"
   ]
  },
  {
   "cell_type": "code",
   "execution_count": 2,
   "id": "2af56f73",
   "metadata": {},
   "outputs": [],
   "source": [
    "def read_file(filename): \n",
    "    try:\n",
    "        with open(filename, 'r') as f:\n",
    "            return f.read()\n",
    "      \n",
    "    except IOError:\n",
    "        print(\"Error opening or reading input file: \", filename)"
   ]
  },
  {
   "cell_type": "code",
   "execution_count": 28,
   "id": "da294e08",
   "metadata": {},
   "outputs": [],
   "source": [
    "def get_words_from_line_list(text): \n",
    "      \n",
    "#     text = text.translate(translation_table)\n",
    "    text = text.lower()\n",
    "    \n",
    "    print('text : ', text)\n",
    "    \n",
    "    word_list = text.split()\n",
    "    \n",
    "    print('word_list : ', word_list)\n",
    "      \n",
    "    return word_list"
   ]
  },
  {
   "cell_type": "code",
   "execution_count": 31,
   "id": "9cc8c378",
   "metadata": {},
   "outputs": [],
   "source": [
    "def word_frequencies_for_file(filename): \n",
    "      \n",
    "    line_list = read_file(filename)\n",
    "    word_list = get_words_from_line_list(line_list)\n",
    "    freq_mapping = count_frequency(word_list)\n",
    "  \n",
    "    print(\"File\", filename, \":\", )\n",
    "    print(len(word_list), \"words, \", )\n",
    "    print('frequency mapping : ', freq_mapping)\n",
    "    print(len(freq_mapping), \"distinct words\", \"\\n\")\n",
    "  \n",
    "    return freq_mapping"
   ]
  },
  {
   "cell_type": "code",
   "execution_count": 32,
   "id": "3e7c9663",
   "metadata": {},
   "outputs": [],
   "source": [
    "def count_frequency(word_list): \n",
    "      \n",
    "    dictionary = {}\n",
    "      \n",
    "    for new_word in word_list:\n",
    "          \n",
    "        if new_word in dictionary:\n",
    "            dictionary[new_word] = dictionary[new_word] + 1\n",
    "              \n",
    "        else:\n",
    "            dictionary[new_word] = 1\n",
    "              \n",
    "    return dictionary"
   ]
  },
  {
   "cell_type": "code",
   "execution_count": 33,
   "id": "989d833a",
   "metadata": {},
   "outputs": [],
   "source": [
    "def dotProduct(dict1, dict2): \n",
    "    total = 0.0\n",
    "      \n",
    "    for key in dict1:\n",
    "        if key in dict2:\n",
    "            total += (dict1[key] * dict2[key])\n",
    "              \n",
    "    return total"
   ]
  },
  {
   "cell_type": "code",
   "execution_count": 54,
   "id": "063488e2",
   "metadata": {},
   "outputs": [],
   "source": [
    "def vector_angle(dict1, dict2): \n",
    "    numerator = dotProduct(dict1, dict2)\n",
    "    print(\"numerator : \", numerator)\n",
    "    denominator = math.sqrt(dotProduct(dict1, dict1)*dotProduct(dict2, dict2))\n",
    "    print(\"denominator : \", denominator)\n",
    "      \n",
    "    return math.cos(numerator / denominator)"
   ]
  },
  {
   "cell_type": "code",
   "execution_count": 60,
   "id": "80a9fad5",
   "metadata": {},
   "outputs": [
    {
     "name": "stdout",
     "output_type": "stream",
     "text": [
      "text :  this was a geek thing\n",
      "word_list :  ['this', 'was', 'a', 'geek', 'thing']\n",
      "File text_01.txt :\n",
      "5 words, \n",
      "frequency mapping :  {'this': 1, 'was': 1, 'a': 1, 'geek': 1, 'thing': 1}\n",
      "5 distinct words \n",
      "\n",
      "text :  this was a geek thing\n",
      "word_list :  ['this', 'was', 'a', 'geek', 'thing']\n",
      "File text_02.txt :\n",
      "5 words, \n",
      "frequency mapping :  {'this': 1, 'was': 1, 'a': 1, 'geek': 1, 'thing': 1}\n",
      "5 distinct words \n",
      "\n",
      "numerator :  5.0\n",
      "denominator :  5.0\n"
     ]
    }
   ],
   "source": [
    "sorted_word_list_1 = word_frequencies_for_file('text_01.txt')\n",
    "sorted_word_list_2 = word_frequencies_for_file('text_02.txt')\n",
    "distance = vector_angle(sorted_word_list_1, sorted_word_list_2)"
   ]
  },
  {
   "cell_type": "code",
   "execution_count": 61,
   "id": "bd1f6cd1",
   "metadata": {},
   "outputs": [
    {
     "name": "stdout",
     "output_type": "stream",
     "text": [
      "The distance between the documents is:  0.54 (radians)\n"
     ]
    }
   ],
   "source": [
    "print(\"The distance between the documents is: % 0.2f (radians)\"% distance)"
   ]
  },
  {
   "cell_type": "code",
   "execution_count": null,
   "id": "25fad2fb",
   "metadata": {},
   "outputs": [],
   "source": []
  }
 ],
 "metadata": {
  "kernelspec": {
   "display_name": "Python 3 (ipykernel)",
   "language": "python",
   "name": "python3"
  },
  "language_info": {
   "codemirror_mode": {
    "name": "ipython",
    "version": 3
   },
   "file_extension": ".py",
   "mimetype": "text/x-python",
   "name": "python",
   "nbconvert_exporter": "python",
   "pygments_lexer": "ipython3",
   "version": "3.9.12"
  }
 },
 "nbformat": 4,
 "nbformat_minor": 5
}
