{
 "cells": [
  {
   "cell_type": "code",
   "execution_count": 28,
   "id": "baf9e01c",
   "metadata": {},
   "outputs": [],
   "source": [
    "import nltk\n",
    "import re"
   ]
  },
  {
   "cell_type": "code",
   "execution_count": 29,
   "id": "e0ac72be",
   "metadata": {},
   "outputs": [],
   "source": [
    "def read_file(filename):\n",
    "    try:\n",
    "        with open(filename, 'r') as f:\n",
    "            return f.read()\n",
    "    \n",
    "    except IOError:\n",
    "        print(\"Error opening or reading input file: \", filename)"
   ]
  },
  {
   "cell_type": "code",
   "execution_count": 30,
   "id": "6dc602f4",
   "metadata": {},
   "outputs": [
    {
     "name": "stdout",
     "output_type": "stream",
     "text": [
      "text1 :  Hello, \"my name is Prathamesh and i am good in coding\"\n",
      "text2 :  Hi this is Purshottam and he is good in coding\n"
     ]
    }
   ],
   "source": [
    "text_1 = read_file('text_01.txt')\n",
    "text_2 = read_file('text_02.txt')\n",
    "\n",
    "print('text1 : ', text_1)\n",
    "print('text2 : ', text_2)"
   ]
  },
  {
   "cell_type": "code",
   "execution_count": 31,
   "id": "533f8ebb",
   "metadata": {},
   "outputs": [
    {
     "name": "stdout",
     "output_type": "stream",
     "text": [
      "words_1 :  ['hello', 'my', 'name', 'is', 'prathamesh', 'and', 'i', 'am', 'good', 'in', 'coding']\n",
      "words_2 :  ['hi', 'this', 'is', 'purshottam', 'and', 'he', 'is', 'good', 'in', 'coding']\n"
     ]
    }
   ],
   "source": [
    "# removing the punctuations\n",
    "text_1 = re.sub(r'[^\\w\\s]', '', text_1)\n",
    "text_2 = re.sub(r'[^\\w\\s]', '', text_2)\n",
    "\n",
    "# converting the text to lower case\n",
    "text_1 = text_1.lower()\n",
    "text_2 = text_2.lower()\n",
    "\n",
    "# tokenizing the words\n",
    "words_1 = text_1.split()\n",
    "words_2 = text_2.split()\n",
    "\n",
    "print('words_1 : ', words_1)\n",
    "print('words_2 : ', words_2)"
   ]
  },
  {
   "cell_type": "code",
   "execution_count": 32,
   "id": "38acad13",
   "metadata": {},
   "outputs": [
    {
     "name": "stdout",
     "output_type": "stream",
     "text": [
      "updated words_1 :  ['hello', 'name', 'prathamesh', 'i', 'good', 'coding']\n",
      "updated words_2 :  ['hi', 'purshottam', 'he', 'is', 'good', 'coding']\n"
     ]
    }
   ],
   "source": [
    "# removing the stop words\n",
    "\n",
    "from nltk.corpus import stopwords\n",
    "\n",
    "stop_words = set(stopwords.words('english'))\n",
    "\n",
    "for word in words_1:\n",
    "    if word in stop_words:\n",
    "        words_1.remove(word)\n",
    "\n",
    "for word in words_2:\n",
    "    if word in stop_words:\n",
    "        words_2.remove(word)\n",
    "\n",
    "print('updated words_1 : ', words_1)\n",
    "print('updated words_2 : ', words_2)"
   ]
  },
  {
   "cell_type": "code",
   "execution_count": null,
   "id": "4eaaeb6d",
   "metadata": {},
   "outputs": [],
   "source": []
  },
  {
   "cell_type": "code",
   "execution_count": 33,
   "id": "1c1e6a26",
   "metadata": {},
   "outputs": [],
   "source": [
    "\n",
    "def calculate_jaccard(word_tokens1, word_tokens2):\n",
    "    # Combine both tokens to find union.\n",
    "    both_tokens = word_tokens1 + word_tokens2\n",
    "    union = set(both_tokens)\n",
    "\n",
    "    # Calculate intersection.\n",
    "    intersection = set()\n",
    "    for w in word_tokens1:\n",
    "        if w in word_tokens2:\n",
    "            intersection.add(w)\n",
    "\n",
    "    jaccard_score = len(intersection)/len(union)\n",
    "    return jaccard_score"
   ]
  },
  {
   "cell_type": "code",
   "execution_count": null,
   "id": "99a72a9c",
   "metadata": {},
   "outputs": [],
   "source": [
    "c"
   ]
  }
 ],
 "metadata": {
  "kernelspec": {
   "display_name": "Python 3 (ipykernel)",
   "language": "python",
   "name": "python3"
  },
  "language_info": {
   "codemirror_mode": {
    "name": "ipython",
    "version": 3
   },
   "file_extension": ".py",
   "mimetype": "text/x-python",
   "name": "python",
   "nbconvert_exporter": "python",
   "pygments_lexer": "ipython3",
   "version": "3.9.12"
  }
 },
 "nbformat": 4,
 "nbformat_minor": 5
}
